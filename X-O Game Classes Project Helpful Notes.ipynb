{
 "cells": [
  {
   "cell_type": "markdown",
   "metadata": {},
   "source": [
    "# X-O Game Classes Project Helpful Notes & Steps:\n",
    "\n",
    "# In this text lecture you will have guide for helping you to complete the project!\n",
    "\n",
    "# Sometimes this project can feel difficult, like being at the end of closed way so you will learn to how to find an open way to the solution.\n",
    "\n",
    "# So to help out with this, here is some notes to help you understand how to start coding and think in solution, and your solution may look completely different than the given solution that is right if it work properly.\n",
    "\n",
    "# If these notes below isn't fully helpful for you , check out the \"Project Walkthrough\" for more explanation and help.\n",
    "\n",
    "# So what is the project scope and What you need in this project to happen?\n",
    "\n",
    "# Notes:\n",
    "\n",
    "# A-create Gameboard class:\n",
    "\n",
    "## -inside the Gameboard class we create instanse of the game board as following.\n",
    "\n",
    "## -then we create items as items setter function.\n",
    "\n",
    "## -create a decorator (@property) for the gameBoard fuction to add separate self instance for game_board:\n",
    "\n",
    "### 1-add another function called clearboard:    \n",
    "### 2-add another function called is_take_place\n",
    "### 3-add another function called is_board_full:\n",
    "### 4-add another function called is_game_won:\n",
    "### 5-add another function to print Game Board: contain if statment to control the game flow in the board.\n",
    "\n",
    "\n",
    "\n",
    "\n",
    "# B-create second class clalled Game:to control the game start and game end:and ask for players names:\n",
    "\n",
    "\n",
    "## so Game class contain four function that control the game steps:    \n",
    "\n",
    "\n",
    "### 1- game start\n",
    "\n",
    "### 2- game end and play again\n",
    "    \n",
    "### 3-game turn\n",
    "   \n",
    "### 4- game manager\n",
    "    \n",
    "    \n",
    "# Finally create the game lancher of the game."
   ]
  },
  {
   "cell_type": "markdown",
   "metadata": {},
   "source": [
    "# Please write your conclusion about this Project in the next cell"
   ]
  },
  {
   "cell_type": "code",
   "execution_count": null,
   "metadata": {},
   "outputs": [],
   "source": []
  }
 ],
 "metadata": {
  "kernelspec": {
   "display_name": "Python 3",
   "language": "python",
   "name": "python3"
  },
  "language_info": {
   "codemirror_mode": {
    "name": "ipython",
    "version": 3
   },
   "file_extension": ".py",
   "mimetype": "text/x-python",
   "name": "python",
   "nbconvert_exporter": "python",
   "pygments_lexer": "ipython3",
   "version": "3.7.4"
  }
 },
 "nbformat": 4,
 "nbformat_minor": 4
}
